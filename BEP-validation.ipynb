{
 "cells": [
  {
   "cell_type": "code",
   "execution_count": 1,
   "metadata": {
    "ExecuteTime": {
     "end_time": "2023-10-17T11:00:36.396198500Z",
     "start_time": "2023-10-17T11:00:36.282776700Z"
    }
   },
   "outputs": [],
   "source": [
    "#####################################################################################################\n",
    "# This notebook contains example code for reading, visualizing and working with the alignment data. #\n",
    "# You can reuse the code and expand on it for your own needs.                                       #\n",
    "#####################################################################################################"
   ]
  },
  {
   "cell_type": "markdown",
   "metadata": {},
   "source": [
    "#### Log Moves"
   ]
  },
  {
   "cell_type": "markdown",
   "metadata": {},
   "source": [
    "Here the algorithm makes the trace move a step while the model remains in the current position. So the model does \n"
   ]
  },
  {
   "cell_type": "code",
   "execution_count": 2,
   "metadata": {
    "ExecuteTime": {
     "end_time": "2023-10-17T11:00:36.396198500Z",
     "start_time": "2023-10-17T11:00:36.292899100Z"
    }
   },
   "outputs": [],
   "source": [
    "#pip install pm4py"
   ]
  },
  {
   "cell_type": "code",
   "execution_count": 3,
   "metadata": {
    "ExecuteTime": {
     "end_time": "2023-10-17T11:00:36.482509100Z",
     "start_time": "2023-10-17T11:00:36.302076200Z"
    }
   },
   "outputs": [],
   "source": [
    "#Imports\n",
    "from mira.prelim.poset import POSet\n",
    "from mira.nets.firing import NuFiring\n",
    "from mira.nets.transition import Transition\n",
    "from mira.nets.marking import NuMarking\n",
    "from mira.prelim.colors import Color\n",
    "\n",
    "import numpy as np\n",
    "import json\n",
    "\n",
    "import re\n",
    "import pandas as pd\n",
    "\n",
    "import os\n",
    "import json\n",
    "from tqdm import tqdm\n",
    "import seaborn as sns\n",
    "import matplotlib.pyplot as plt\n",
    "from scipy.stats import chi2, chi2_contingency"
   ]
  },
  {
   "cell_type": "code",
   "execution_count": 4,
   "metadata": {},
   "outputs": [
    {
     "data": {
      "text/html": [
       "<div>\n",
       "<style scoped>\n",
       "    .dataframe tbody tr th:only-of-type {\n",
       "        vertical-align: middle;\n",
       "    }\n",
       "\n",
       "    .dataframe tbody tr th {\n",
       "        vertical-align: top;\n",
       "    }\n",
       "\n",
       "    .dataframe thead th {\n",
       "        text-align: right;\n",
       "    }\n",
       "</style>\n",
       "<table border=\"1\" class=\"dataframe\">\n",
       "  <thead>\n",
       "    <tr style=\"text-align: right;\">\n",
       "      <th></th>\n",
       "      <th>action</th>\n",
       "      <th>user</th>\n",
       "      <th>case_nr</th>\n",
       "      <th>move_type</th>\n",
       "    </tr>\n",
       "  </thead>\n",
       "  <tbody>\n",
       "    <tr>\n",
       "      <th>0</th>\n",
       "      <td>A:START</td>\n",
       "      <td>c100</td>\n",
       "      <td>User_1</td>\n",
       "      <td>log</td>\n",
       "    </tr>\n",
       "    <tr>\n",
       "      <th>1</th>\n",
       "      <td>A:COMPLETE</td>\n",
       "      <td>c100</td>\n",
       "      <td>User_1</td>\n",
       "      <td>log</td>\n",
       "    </tr>\n",
       "    <tr>\n",
       "      <th>2</th>\n",
       "      <td>B:START</td>\n",
       "      <td>c100</td>\n",
       "      <td>User_1</td>\n",
       "      <td>log</td>\n",
       "    </tr>\n",
       "    <tr>\n",
       "      <th>3</th>\n",
       "      <td>B:COMPLETE</td>\n",
       "      <td>c100</td>\n",
       "      <td>User_1</td>\n",
       "      <td>log</td>\n",
       "    </tr>\n",
       "    <tr>\n",
       "      <th>4</th>\n",
       "      <td>A:START</td>\n",
       "      <td>c101</td>\n",
       "      <td>User_1</td>\n",
       "      <td>log</td>\n",
       "    </tr>\n",
       "    <tr>\n",
       "      <th>...</th>\n",
       "      <td>...</td>\n",
       "      <td>...</td>\n",
       "      <td>...</td>\n",
       "      <td>...</td>\n",
       "    </tr>\n",
       "    <tr>\n",
       "      <th>389</th>\n",
       "      <td>E:COMPLETE</td>\n",
       "      <td>c196</td>\n",
       "      <td>User_1</td>\n",
       "      <td>model</td>\n",
       "    </tr>\n",
       "    <tr>\n",
       "      <th>390</th>\n",
       "      <td>A:START</td>\n",
       "      <td>c196</td>\n",
       "      <td>User_1</td>\n",
       "      <td>log</td>\n",
       "    </tr>\n",
       "    <tr>\n",
       "      <th>391</th>\n",
       "      <td>A:COMPLETE</td>\n",
       "      <td>c196</td>\n",
       "      <td>User_1</td>\n",
       "      <td>log</td>\n",
       "    </tr>\n",
       "    <tr>\n",
       "      <th>392</th>\n",
       "      <td>B:START</td>\n",
       "      <td>c196</td>\n",
       "      <td>User_1</td>\n",
       "      <td>log</td>\n",
       "    </tr>\n",
       "    <tr>\n",
       "      <th>393</th>\n",
       "      <td>B:COMPLETE</td>\n",
       "      <td>c196</td>\n",
       "      <td>User_1</td>\n",
       "      <td>log</td>\n",
       "    </tr>\n",
       "  </tbody>\n",
       "</table>\n",
       "<p>394 rows × 4 columns</p>\n",
       "</div>"
      ],
      "text/plain": [
       "         action  user case_nr move_type\n",
       "0       A:START  c100  User_1       log\n",
       "1    A:COMPLETE  c100  User_1       log\n",
       "2       B:START  c100  User_1       log\n",
       "3    B:COMPLETE  c100  User_1       log\n",
       "4       A:START  c101  User_1       log\n",
       "..          ...   ...     ...       ...\n",
       "389  E:COMPLETE  c196  User_1     model\n",
       "390     A:START  c196  User_1       log\n",
       "391  A:COMPLETE  c196  User_1       log\n",
       "392     B:START  c196  User_1       log\n",
       "393  B:COMPLETE  c196  User_1       log\n",
       "\n",
       "[394 rows x 4 columns]"
      ]
     },
     "execution_count": 4,
     "metadata": {},
     "output_type": "execute_result"
    }
   ],
   "source": [
    "# Read dataframe\n",
    "df = pd.read_csv('C:/Users/20203721/OneDrive - TU Eindhoven/Documents/BEP/data/alignments/dataframe - Blad1.csv', header=0)\n",
    "df"
   ]
  },
  {
   "cell_type": "code",
   "execution_count": 5,
   "metadata": {
    "ExecuteTime": {
     "end_time": "2023-10-17T11:05:19.032183900Z",
     "start_time": "2023-10-17T11:05:18.987464900Z"
    }
   },
   "outputs": [],
   "source": [
    "# Create a mask to identify rows where 'user' and 'case_nr' are swapped\n",
    "mask = (df['user'].str.startswith('User_') & df['case_nr'].str.startswith('c'))\n",
    "\n",
    "# Swap 'user' and 'case_nr' for the rows identified by the mask\n",
    "df.loc[mask, ['user', 'case_nr']] = df.loc[mask, ['case_nr', 'user']].values\n",
    "\n",
    "# Rename columns\n",
    "df.rename(columns={\"user\": \"case_nr\", \"case_nr\": \"user\"}, inplace=True)"
   ]
  },
  {
   "cell_type": "code",
   "execution_count": 6,
   "metadata": {},
   "outputs": [
    {
     "data": {
      "text/html": [
       "<div>\n",
       "<style scoped>\n",
       "    .dataframe tbody tr th:only-of-type {\n",
       "        vertical-align: middle;\n",
       "    }\n",
       "\n",
       "    .dataframe tbody tr th {\n",
       "        vertical-align: top;\n",
       "    }\n",
       "\n",
       "    .dataframe thead th {\n",
       "        text-align: right;\n",
       "    }\n",
       "</style>\n",
       "<table border=\"1\" class=\"dataframe\">\n",
       "  <thead>\n",
       "    <tr style=\"text-align: right;\">\n",
       "      <th></th>\n",
       "      <th>action</th>\n",
       "      <th>case_nr</th>\n",
       "      <th>user</th>\n",
       "      <th>move_type</th>\n",
       "    </tr>\n",
       "  </thead>\n",
       "  <tbody>\n",
       "    <tr>\n",
       "      <th>0</th>\n",
       "      <td>A:START</td>\n",
       "      <td>c100</td>\n",
       "      <td>User_1</td>\n",
       "      <td>log</td>\n",
       "    </tr>\n",
       "    <tr>\n",
       "      <th>1</th>\n",
       "      <td>A:COMPLETE</td>\n",
       "      <td>c100</td>\n",
       "      <td>User_1</td>\n",
       "      <td>log</td>\n",
       "    </tr>\n",
       "    <tr>\n",
       "      <th>2</th>\n",
       "      <td>B:START</td>\n",
       "      <td>c100</td>\n",
       "      <td>User_1</td>\n",
       "      <td>log</td>\n",
       "    </tr>\n",
       "    <tr>\n",
       "      <th>3</th>\n",
       "      <td>B:COMPLETE</td>\n",
       "      <td>c100</td>\n",
       "      <td>User_1</td>\n",
       "      <td>log</td>\n",
       "    </tr>\n",
       "    <tr>\n",
       "      <th>4</th>\n",
       "      <td>A:START</td>\n",
       "      <td>c101</td>\n",
       "      <td>User_1</td>\n",
       "      <td>log</td>\n",
       "    </tr>\n",
       "    <tr>\n",
       "      <th>...</th>\n",
       "      <td>...</td>\n",
       "      <td>...</td>\n",
       "      <td>...</td>\n",
       "      <td>...</td>\n",
       "    </tr>\n",
       "    <tr>\n",
       "      <th>389</th>\n",
       "      <td>E:COMPLETE</td>\n",
       "      <td>c196</td>\n",
       "      <td>User_1</td>\n",
       "      <td>model</td>\n",
       "    </tr>\n",
       "    <tr>\n",
       "      <th>390</th>\n",
       "      <td>A:START</td>\n",
       "      <td>c196</td>\n",
       "      <td>User_1</td>\n",
       "      <td>log</td>\n",
       "    </tr>\n",
       "    <tr>\n",
       "      <th>391</th>\n",
       "      <td>A:COMPLETE</td>\n",
       "      <td>c196</td>\n",
       "      <td>User_1</td>\n",
       "      <td>log</td>\n",
       "    </tr>\n",
       "    <tr>\n",
       "      <th>392</th>\n",
       "      <td>B:START</td>\n",
       "      <td>c196</td>\n",
       "      <td>User_1</td>\n",
       "      <td>log</td>\n",
       "    </tr>\n",
       "    <tr>\n",
       "      <th>393</th>\n",
       "      <td>B:COMPLETE</td>\n",
       "      <td>c196</td>\n",
       "      <td>User_1</td>\n",
       "      <td>log</td>\n",
       "    </tr>\n",
       "  </tbody>\n",
       "</table>\n",
       "<p>394 rows × 4 columns</p>\n",
       "</div>"
      ],
      "text/plain": [
       "         action case_nr    user move_type\n",
       "0       A:START    c100  User_1       log\n",
       "1    A:COMPLETE    c100  User_1       log\n",
       "2       B:START    c100  User_1       log\n",
       "3    B:COMPLETE    c100  User_1       log\n",
       "4       A:START    c101  User_1       log\n",
       "..          ...     ...     ...       ...\n",
       "389  E:COMPLETE    c196  User_1     model\n",
       "390     A:START    c196  User_1       log\n",
       "391  A:COMPLETE    c196  User_1       log\n",
       "392     B:START    c196  User_1       log\n",
       "393  B:COMPLETE    c196  User_1       log\n",
       "\n",
       "[394 rows x 4 columns]"
      ]
     },
     "execution_count": 6,
     "metadata": {},
     "output_type": "execute_result"
    }
   ],
   "source": [
    "# Filter rows with move_type equal to \"log\"\n",
    "log_df = df\n",
    "\n",
    "# Identify consecutive rows using the default integer index\n",
    "consecutive_rows = log_df.index.to_series().diff() == 1\n",
    "\n",
    "# Identify cases where there are at least 2 consecutive actions\n",
    "cases_with_consecutive_actions = consecutive_rows.groupby(log_df['case_nr']).transform('sum') > 2\n",
    "\n",
    "# Select rows where there are at least 2 consecutive actions for the same case\n",
    "result_df = log_df[cases_with_consecutive_actions]\n",
    "\n",
    "# Display the resulting DataFrame\n",
    "result_df"
   ]
  },
  {
   "cell_type": "code",
   "execution_count": 7,
   "metadata": {},
   "outputs": [
    {
     "data": {
      "text/plain": [
       "97"
      ]
     },
     "execution_count": 7,
     "metadata": {},
     "output_type": "execute_result"
    }
   ],
   "source": [
    "# Check if all cases have more than 2 observations\n",
    "# When this is true, the outut of this is the length of the series printed below.\n",
    "result_df['case_nr'].nunique()"
   ]
  },
  {
   "cell_type": "code",
   "execution_count": 8,
   "metadata": {},
   "outputs": [
    {
     "name": "stdout",
     "output_type": "stream",
     "text": [
      "case_nr\n",
      "c100    True\n",
      "c101    True\n",
      "c102    True\n",
      "c103    True\n",
      "c104    True\n",
      "        ... \n",
      "c192    True\n",
      "c193    True\n",
      "c194    True\n",
      "c195    True\n",
      "c196    True\n",
      "Length: 97, dtype: bool\n"
     ]
    }
   ],
   "source": [
    "at_least_2 = result_df.groupby('case_nr').size() > 2\n",
    "print(at_least_2[at_least_2])"
   ]
  },
  {
   "cell_type": "code",
   "execution_count": 9,
   "metadata": {},
   "outputs": [
    {
     "data": {
      "text/html": [
       "<div>\n",
       "<style scoped>\n",
       "    .dataframe tbody tr th:only-of-type {\n",
       "        vertical-align: middle;\n",
       "    }\n",
       "\n",
       "    .dataframe tbody tr th {\n",
       "        vertical-align: top;\n",
       "    }\n",
       "\n",
       "    .dataframe thead th {\n",
       "        text-align: right;\n",
       "    }\n",
       "</style>\n",
       "<table border=\"1\" class=\"dataframe\">\n",
       "  <thead>\n",
       "    <tr style=\"text-align: right;\">\n",
       "      <th></th>\n",
       "      <th>action</th>\n",
       "      <th>case_nr</th>\n",
       "      <th>user</th>\n",
       "      <th>move_type</th>\n",
       "      <th>next_event</th>\n",
       "      <th>next_event_type</th>\n",
       "    </tr>\n",
       "  </thead>\n",
       "  <tbody>\n",
       "    <tr>\n",
       "      <th>384</th>\n",
       "      <td>A:START</td>\n",
       "      <td>c196</td>\n",
       "      <td>User_1</td>\n",
       "      <td>log</td>\n",
       "      <td>B:START</td>\n",
       "      <td>log</td>\n",
       "    </tr>\n",
       "    <tr>\n",
       "      <th>385</th>\n",
       "      <td>A:COMPLETE</td>\n",
       "      <td>c196</td>\n",
       "      <td>User_1</td>\n",
       "      <td>log</td>\n",
       "      <td>B:COMPLETE</td>\n",
       "      <td>log</td>\n",
       "    </tr>\n",
       "    <tr>\n",
       "      <th>386</th>\n",
       "      <td>B:START</td>\n",
       "      <td>c196</td>\n",
       "      <td>User_1</td>\n",
       "      <td>log</td>\n",
       "      <td>E:START</td>\n",
       "      <td>model</td>\n",
       "    </tr>\n",
       "    <tr>\n",
       "      <th>387</th>\n",
       "      <td>B:COMPLETE</td>\n",
       "      <td>c196</td>\n",
       "      <td>User_1</td>\n",
       "      <td>log</td>\n",
       "      <td>E:COMPLETE</td>\n",
       "      <td>model</td>\n",
       "    </tr>\n",
       "    <tr>\n",
       "      <th>388</th>\n",
       "      <td>E:START</td>\n",
       "      <td>c196</td>\n",
       "      <td>User_1</td>\n",
       "      <td>model</td>\n",
       "      <td>A:START</td>\n",
       "      <td>log</td>\n",
       "    </tr>\n",
       "    <tr>\n",
       "      <th>389</th>\n",
       "      <td>E:COMPLETE</td>\n",
       "      <td>c196</td>\n",
       "      <td>User_1</td>\n",
       "      <td>model</td>\n",
       "      <td>A:COMPLETE</td>\n",
       "      <td>log</td>\n",
       "    </tr>\n",
       "    <tr>\n",
       "      <th>390</th>\n",
       "      <td>A:START</td>\n",
       "      <td>c196</td>\n",
       "      <td>User_1</td>\n",
       "      <td>log</td>\n",
       "      <td>B:START</td>\n",
       "      <td>log</td>\n",
       "    </tr>\n",
       "    <tr>\n",
       "      <th>391</th>\n",
       "      <td>A:COMPLETE</td>\n",
       "      <td>c196</td>\n",
       "      <td>User_1</td>\n",
       "      <td>log</td>\n",
       "      <td>B:COMPLETE</td>\n",
       "      <td>log</td>\n",
       "    </tr>\n",
       "    <tr>\n",
       "      <th>392</th>\n",
       "      <td>B:START</td>\n",
       "      <td>c196</td>\n",
       "      <td>User_1</td>\n",
       "      <td>log</td>\n",
       "      <td>NaN</td>\n",
       "      <td>NaN</td>\n",
       "    </tr>\n",
       "    <tr>\n",
       "      <th>393</th>\n",
       "      <td>B:COMPLETE</td>\n",
       "      <td>c196</td>\n",
       "      <td>User_1</td>\n",
       "      <td>log</td>\n",
       "      <td>NaN</td>\n",
       "      <td>NaN</td>\n",
       "    </tr>\n",
       "  </tbody>\n",
       "</table>\n",
       "</div>"
      ],
      "text/plain": [
       "         action case_nr    user move_type  next_event next_event_type\n",
       "384     A:START    c196  User_1       log     B:START             log\n",
       "385  A:COMPLETE    c196  User_1       log  B:COMPLETE             log\n",
       "386     B:START    c196  User_1       log     E:START           model\n",
       "387  B:COMPLETE    c196  User_1       log  E:COMPLETE           model\n",
       "388     E:START    c196  User_1     model     A:START             log\n",
       "389  E:COMPLETE    c196  User_1     model  A:COMPLETE             log\n",
       "390     A:START    c196  User_1       log     B:START             log\n",
       "391  A:COMPLETE    c196  User_1       log  B:COMPLETE             log\n",
       "392     B:START    c196  User_1       log         NaN             NaN\n",
       "393  B:COMPLETE    c196  User_1       log         NaN             NaN"
      ]
     },
     "execution_count": 9,
     "metadata": {},
     "output_type": "execute_result"
    }
   ],
   "source": [
    "# Get next log move using shift\n",
    "result_df['next_event'] = result_df.groupby('case_nr')['action'].shift(-2)\n",
    "result_df['next_event_type'] = result_df.groupby('case_nr')['move_type'].shift(-2)\n",
    "\n",
    "result_df.tail(10)"
   ]
  },
  {
   "cell_type": "code",
   "execution_count": 10,
   "metadata": {},
   "outputs": [
    {
     "name": "stderr",
     "output_type": "stream",
     "text": [
      "C:\\Users\\20203721\\AppData\\Local\\Temp\\ipykernel_32876\\807926713.py:3: SettingWithCopyWarning: \n",
      "A value is trying to be set on a copy of a slice from a DataFrame.\n",
      "Try using .loc[row_indexer,col_indexer] = value instead\n",
      "\n",
      "See the caveats in the documentation: https://pandas.pydata.org/pandas-docs/stable/user_guide/indexing.html#returning-a-view-versus-a-copy\n",
      "  result_df['action'] = result_df['action'].str.replace(':START', '')\n",
      "C:\\Users\\20203721\\AppData\\Local\\Temp\\ipykernel_32876\\807926713.py:4: SettingWithCopyWarning: \n",
      "A value is trying to be set on a copy of a slice from a DataFrame.\n",
      "Try using .loc[row_indexer,col_indexer] = value instead\n",
      "\n",
      "See the caveats in the documentation: https://pandas.pydata.org/pandas-docs/stable/user_guide/indexing.html#returning-a-view-versus-a-copy\n",
      "  result_df['next_event'] = result_df['next_event'].str.replace(':START', '')\n"
     ]
    },
    {
     "data": {
      "text/html": [
       "<div>\n",
       "<style scoped>\n",
       "    .dataframe tbody tr th:only-of-type {\n",
       "        vertical-align: middle;\n",
       "    }\n",
       "\n",
       "    .dataframe tbody tr th {\n",
       "        vertical-align: top;\n",
       "    }\n",
       "\n",
       "    .dataframe thead th {\n",
       "        text-align: right;\n",
       "    }\n",
       "</style>\n",
       "<table border=\"1\" class=\"dataframe\">\n",
       "  <thead>\n",
       "    <tr style=\"text-align: right;\">\n",
       "      <th></th>\n",
       "      <th>action</th>\n",
       "      <th>case_nr</th>\n",
       "      <th>user</th>\n",
       "      <th>move_type</th>\n",
       "      <th>next_event</th>\n",
       "      <th>next_event_type</th>\n",
       "    </tr>\n",
       "  </thead>\n",
       "  <tbody>\n",
       "    <tr>\n",
       "      <th>0</th>\n",
       "      <td>A</td>\n",
       "      <td>c100</td>\n",
       "      <td>User_1</td>\n",
       "      <td>log</td>\n",
       "      <td>B</td>\n",
       "      <td>log</td>\n",
       "    </tr>\n",
       "    <tr>\n",
       "      <th>2</th>\n",
       "      <td>B</td>\n",
       "      <td>c100</td>\n",
       "      <td>User_1</td>\n",
       "      <td>log</td>\n",
       "      <td>NaN</td>\n",
       "      <td>NaN</td>\n",
       "    </tr>\n",
       "    <tr>\n",
       "      <th>4</th>\n",
       "      <td>A</td>\n",
       "      <td>c101</td>\n",
       "      <td>User_1</td>\n",
       "      <td>log</td>\n",
       "      <td>C</td>\n",
       "      <td>log</td>\n",
       "    </tr>\n",
       "    <tr>\n",
       "      <th>6</th>\n",
       "      <td>C</td>\n",
       "      <td>c101</td>\n",
       "      <td>User_1</td>\n",
       "      <td>log</td>\n",
       "      <td>NaN</td>\n",
       "      <td>NaN</td>\n",
       "    </tr>\n",
       "    <tr>\n",
       "      <th>8</th>\n",
       "      <td>A</td>\n",
       "      <td>c102</td>\n",
       "      <td>User_1</td>\n",
       "      <td>log</td>\n",
       "      <td>D</td>\n",
       "      <td>log</td>\n",
       "    </tr>\n",
       "    <tr>\n",
       "      <th>...</th>\n",
       "      <td>...</td>\n",
       "      <td>...</td>\n",
       "      <td>...</td>\n",
       "      <td>...</td>\n",
       "      <td>...</td>\n",
       "      <td>...</td>\n",
       "    </tr>\n",
       "    <tr>\n",
       "      <th>384</th>\n",
       "      <td>A</td>\n",
       "      <td>c196</td>\n",
       "      <td>User_1</td>\n",
       "      <td>log</td>\n",
       "      <td>B</td>\n",
       "      <td>log</td>\n",
       "    </tr>\n",
       "    <tr>\n",
       "      <th>386</th>\n",
       "      <td>B</td>\n",
       "      <td>c196</td>\n",
       "      <td>User_1</td>\n",
       "      <td>log</td>\n",
       "      <td>E</td>\n",
       "      <td>model</td>\n",
       "    </tr>\n",
       "    <tr>\n",
       "      <th>388</th>\n",
       "      <td>E</td>\n",
       "      <td>c196</td>\n",
       "      <td>User_1</td>\n",
       "      <td>model</td>\n",
       "      <td>A</td>\n",
       "      <td>log</td>\n",
       "    </tr>\n",
       "    <tr>\n",
       "      <th>390</th>\n",
       "      <td>A</td>\n",
       "      <td>c196</td>\n",
       "      <td>User_1</td>\n",
       "      <td>log</td>\n",
       "      <td>B</td>\n",
       "      <td>log</td>\n",
       "    </tr>\n",
       "    <tr>\n",
       "      <th>392</th>\n",
       "      <td>B</td>\n",
       "      <td>c196</td>\n",
       "      <td>User_1</td>\n",
       "      <td>log</td>\n",
       "      <td>NaN</td>\n",
       "      <td>NaN</td>\n",
       "    </tr>\n",
       "  </tbody>\n",
       "</table>\n",
       "<p>197 rows × 6 columns</p>\n",
       "</div>"
      ],
      "text/plain": [
       "    action case_nr    user move_type next_event next_event_type\n",
       "0        A    c100  User_1       log          B             log\n",
       "2        B    c100  User_1       log        NaN             NaN\n",
       "4        A    c101  User_1       log          C             log\n",
       "6        C    c101  User_1       log        NaN             NaN\n",
       "8        A    c102  User_1       log          D             log\n",
       "..     ...     ...     ...       ...        ...             ...\n",
       "384      A    c196  User_1       log          B             log\n",
       "386      B    c196  User_1       log          E           model\n",
       "388      E    c196  User_1     model          A             log\n",
       "390      A    c196  User_1       log          B             log\n",
       "392      B    c196  User_1       log        NaN             NaN\n",
       "\n",
       "[197 rows x 6 columns]"
      ]
     },
     "execution_count": 10,
     "metadata": {},
     "output_type": "execute_result"
    }
   ],
   "source": [
    "# Drop :COMPLETE observations, thereby halving the dataset. Possible because it's not needed for this research\n",
    "result_df = result_df[~result_df['action'].str.endswith(':COMPLETE')]\n",
    "result_df['action'] = result_df['action'].str.replace(':START', '')\n",
    "result_df['next_event'] = result_df['next_event'].str.replace(':START', '')\n",
    "\n",
    "\n",
    "result_df"
   ]
  },
  {
   "cell_type": "code",
   "execution_count": 11,
   "metadata": {
    "scrolled": false
   },
   "outputs": [
    {
     "data": {
      "image/png": "[encoded data removed]",
      "text/plain": [
       "<Figure size 1000x1000 with 2 Axes>"
      ]
     },
     "metadata": {},
     "output_type": "display_data"
    }
   ],
   "source": [
    "# Create a heatmap\n",
    "heatmap_data = result_df[(result_df['move_type'] == 'log') & (result_df['next_event_type'] == 'log')].pivot_table(index='action', columns='next_event', aggfunc='size', fill_value=0)\n",
    "\n",
    "plt.figure(figsize=(10, 10))\n",
    "sns.heatmap(heatmap_data, annot=True, cmap='YlGnBu', fmt='g')\n",
    "plt.title('Heatmap of log move and next occurring log move')\n",
    "plt.xlabel('Next occurring log move')\n",
    "plt.ylabel('Log move')\n",
    "plt.show()"
   ]
  },
  {
   "cell_type": "code",
   "execution_count": 12,
   "metadata": {},
   "outputs": [
    {
     "data": {
      "text/html": [
       "<div>\n",
       "<style scoped>\n",
       "    .dataframe tbody tr th:only-of-type {\n",
       "        vertical-align: middle;\n",
       "    }\n",
       "\n",
       "    .dataframe tbody tr th {\n",
       "        vertical-align: top;\n",
       "    }\n",
       "\n",
       "    .dataframe thead th {\n",
       "        text-align: right;\n",
       "    }\n",
       "</style>\n",
       "<table border=\"1\" class=\"dataframe\">\n",
       "  <thead>\n",
       "    <tr style=\"text-align: right;\">\n",
       "      <th>next_event</th>\n",
       "      <th>A</th>\n",
       "      <th>B</th>\n",
       "      <th>C</th>\n",
       "      <th>D</th>\n",
       "    </tr>\n",
       "    <tr>\n",
       "      <th>action</th>\n",
       "      <th></th>\n",
       "      <th></th>\n",
       "      <th></th>\n",
       "      <th></th>\n",
       "    </tr>\n",
       "  </thead>\n",
       "  <tbody>\n",
       "    <tr>\n",
       "      <th>A</th>\n",
       "      <td>0</td>\n",
       "      <td>11</td>\n",
       "      <td>10</td>\n",
       "      <td>67</td>\n",
       "    </tr>\n",
       "    <tr>\n",
       "      <th>B</th>\n",
       "      <td>4</td>\n",
       "      <td>0</td>\n",
       "      <td>3</td>\n",
       "      <td>3</td>\n",
       "    </tr>\n",
       "  </tbody>\n",
       "</table>\n",
       "</div>"
      ],
      "text/plain": [
       "next_event  A   B   C   D\n",
       "action                   \n",
       "A           0  11  10  67\n",
       "B           4   0   3   3"
      ]
     },
     "execution_count": 12,
     "metadata": {},
     "output_type": "execute_result"
    }
   ],
   "source": [
    "heatmap_data"
   ]
  },
  {
   "cell_type": "code",
   "execution_count": 13,
   "metadata": {
    "scrolled": false
   },
   "outputs": [
    {
     "data": {
      "text/html": [
       "<div>\n",
       "<style scoped>\n",
       "    .dataframe tbody tr th:only-of-type {\n",
       "        vertical-align: middle;\n",
       "    }\n",
       "\n",
       "    .dataframe tbody tr th {\n",
       "        vertical-align: top;\n",
       "    }\n",
       "\n",
       "    .dataframe thead th {\n",
       "        text-align: right;\n",
       "    }\n",
       "</style>\n",
       "<table border=\"1\" class=\"dataframe\">\n",
       "  <thead>\n",
       "    <tr style=\"text-align: right;\">\n",
       "      <th></th>\n",
       "      <th>Action</th>\n",
       "      <th>Max</th>\n",
       "      <th>Next Event</th>\n",
       "      <th>Sum of row</th>\n",
       "    </tr>\n",
       "  </thead>\n",
       "  <tbody>\n",
       "    <tr>\n",
       "      <th>0</th>\n",
       "      <td>A</td>\n",
       "      <td>67</td>\n",
       "      <td>D</td>\n",
       "      <td>88</td>\n",
       "    </tr>\n",
       "    <tr>\n",
       "      <th>1</th>\n",
       "      <td>B</td>\n",
       "      <td>4</td>\n",
       "      <td>A</td>\n",
       "      <td>10</td>\n",
       "    </tr>\n",
       "  </tbody>\n",
       "</table>\n",
       "</div>"
      ],
      "text/plain": [
       "  Action Max Next Event Sum of row\n",
       "0      A  67          D         88\n",
       "1      B   4          A         10"
      ]
     },
     "execution_count": 13,
     "metadata": {},
     "output_type": "execute_result"
    }
   ],
   "source": [
    "row_results = pd.DataFrame(columns=['Action', 'Max', 'Next Event', 'Sum of row'])\n",
    "\n",
    "# Loop over each row and find the maximum number and its label\n",
    "for index, row in heatmap_data.iterrows():\n",
    "    action = index\n",
    "    max_row_value = row.max()\n",
    "    next_event = row.idxmax()\n",
    "    sum_row = row.sum()\n",
    " \n",
    "    new_row = pd.DataFrame({'Action': [action], 'Max': [max_row_value], 'Next Event': [next_event], 'Sum of row': [sum_row]})\n",
    "    row_results = pd.concat([row_results, new_row], ignore_index=True)\n",
    "    \n",
    "row_results"
   ]
  },
  {
   "cell_type": "code",
   "execution_count": 14,
   "metadata": {},
   "outputs": [
    {
     "data": {
      "text/html": [
       "<div>\n",
       "<style scoped>\n",
       "    .dataframe tbody tr th:only-of-type {\n",
       "        vertical-align: middle;\n",
       "    }\n",
       "\n",
       "    .dataframe tbody tr th {\n",
       "        vertical-align: top;\n",
       "    }\n",
       "\n",
       "    .dataframe thead th {\n",
       "        text-align: right;\n",
       "    }\n",
       "</style>\n",
       "<table border=\"1\" class=\"dataframe\">\n",
       "  <thead>\n",
       "    <tr style=\"text-align: right;\">\n",
       "      <th></th>\n",
       "      <th>Next Event</th>\n",
       "      <th>Sum of column</th>\n",
       "    </tr>\n",
       "  </thead>\n",
       "  <tbody>\n",
       "    <tr>\n",
       "      <th>0</th>\n",
       "      <td>A</td>\n",
       "      <td>4</td>\n",
       "    </tr>\n",
       "    <tr>\n",
       "      <th>1</th>\n",
       "      <td>B</td>\n",
       "      <td>11</td>\n",
       "    </tr>\n",
       "    <tr>\n",
       "      <th>2</th>\n",
       "      <td>C</td>\n",
       "      <td>13</td>\n",
       "    </tr>\n",
       "    <tr>\n",
       "      <th>3</th>\n",
       "      <td>D</td>\n",
       "      <td>70</td>\n",
       "    </tr>\n",
       "  </tbody>\n",
       "</table>\n",
       "</div>"
      ],
      "text/plain": [
       "  Next Event Sum of column\n",
       "0          A             4\n",
       "1          B            11\n",
       "2          C            13\n",
       "3          D            70"
      ]
     },
     "execution_count": 14,
     "metadata": {},
     "output_type": "execute_result"
    }
   ],
   "source": [
    "column_results = pd.DataFrame(columns=['Next Event', 'Sum of column'])\n",
    "\n",
    "# Loop over each row and find the maximum number and its label\n",
    "for index, column in heatmap_data.items():\n",
    "    sum_col = column.values.sum()\n",
    " \n",
    "    new_row = pd.DataFrame({'Next Event': [index], 'Sum of column': [sum_col]})\n",
    "    column_results = pd.concat([column_results, new_row], ignore_index=True)\n",
    "    \n",
    "column_results"
   ]
  },
  {
   "cell_type": "code",
   "execution_count": 15,
   "metadata": {},
   "outputs": [
    {
     "data": {
      "text/html": [
       "<div>\n",
       "<style scoped>\n",
       "    .dataframe tbody tr th:only-of-type {\n",
       "        vertical-align: middle;\n",
       "    }\n",
       "\n",
       "    .dataframe tbody tr th {\n",
       "        vertical-align: top;\n",
       "    }\n",
       "\n",
       "    .dataframe thead th {\n",
       "        text-align: right;\n",
       "    }\n",
       "</style>\n",
       "<table border=\"1\" class=\"dataframe\">\n",
       "  <thead>\n",
       "    <tr style=\"text-align: right;\">\n",
       "      <th></th>\n",
       "      <th>Event</th>\n",
       "      <th>Next Event</th>\n",
       "      <th>Yes/Yes</th>\n",
       "      <th>Yes/No</th>\n",
       "      <th>No/Yes</th>\n",
       "      <th>No/No</th>\n",
       "    </tr>\n",
       "  </thead>\n",
       "  <tbody>\n",
       "    <tr>\n",
       "      <th>0</th>\n",
       "      <td>A</td>\n",
       "      <td>D</td>\n",
       "      <td>67</td>\n",
       "      <td>21</td>\n",
       "      <td>3</td>\n",
       "      <td>7</td>\n",
       "    </tr>\n",
       "    <tr>\n",
       "      <th>1</th>\n",
       "      <td>B</td>\n",
       "      <td>A</td>\n",
       "      <td>4</td>\n",
       "      <td>6</td>\n",
       "      <td>0</td>\n",
       "      <td>88</td>\n",
       "    </tr>\n",
       "  </tbody>\n",
       "</table>\n",
       "</div>"
      ],
      "text/plain": [
       "  Event Next Event Yes/Yes Yes/No No/Yes No/No\n",
       "0     A          D      67     21      3     7\n",
       "1     B          A       4      6      0    88"
      ]
     },
     "execution_count": 15,
     "metadata": {},
     "output_type": "execute_result"
    }
   ],
   "source": [
    "indep_outcomes = pd.DataFrame(columns=['Event', 'Next Event', 'Yes/Yes', 'Yes/No', 'No/Yes', 'No/No'])\n",
    "\n",
    "column_result_dict = column_results.set_index('Next Event')['Sum of column'].to_dict()\n",
    "\n",
    "total = row_results['Sum of row'].sum()\n",
    "\n",
    "for index, row in row_results.iterrows():\n",
    "    yes_yes = row['Max']\n",
    "    yes_no = row['Sum of row'] - row['Max']\n",
    "    no_yes = (column_result_dict.get(row['Next Event'], 0)) - row['Max']\n",
    "    #no_no = total - column_result_dict.get(row['Next Event'], 0)\n",
    "    no_no = total - yes_yes - yes_no - no_yes\n",
    "    \n",
    "    new_row = pd.DataFrame({'Event': row['Action'], 'Next Event': row['Next Event'], 'Yes/Yes': yes_yes,\n",
    "                            'Yes/No': yes_no , 'No/Yes': no_yes, 'No/No': no_no}, index=[0])\n",
    "    indep_outcomes = pd.concat([indep_outcomes, new_row], ignore_index=True)\n",
    "    \n",
    "indep_outcomes"
   ]
  },
  {
   "cell_type": "markdown",
   "metadata": {},
   "source": [
    "# Chi-square test by hand"
   ]
  },
  {
   "cell_type": "markdown",
   "metadata": {},
   "source": [
    "Steps: <br>\n",
    "    1. Have contingency table<br>\n",
    "    2. Calculate the chi-squared statistic<br>\n",
    "          Chi-square = $Σ [(Oij - Eij)² / Eij]$<br>\n",
    "          $Oij$: Observed count in cell (i, j)<br>\n",
    "          $Eij$: Expected count in cell (i, j)<br>\n",
    "          The expected count $Eij$ is calculated based on the assumption of independence, which is given by:<br>\n",
    "            $Eij$ = (Row i's total count * Column j's total count) / Grand Total <br>\n",
    "    3. Determine degrees of freedom (df)<br>\n",
    "        The degrees of freedom for a chi-squared test for independence can be calculated as df = (R - 1) * (C - 1), where R is the number of rows and C is the number of columns in the contingency table <br>\n",
    "    4. Find the critical value using the Chi-square distribution table <br>\n",
    "    5. Calculate the Chi-square value\n",
    "    6. Reject Null-hypothesis when Chi_square $\\ge$ critical value\n",
    "          "
   ]
  },
  {
   "cell_type": "code",
   "execution_count": 16,
   "metadata": {},
   "outputs": [
    {
     "data": {
      "text/html": [
       "<div>\n",
       "<style scoped>\n",
       "    .dataframe tbody tr th:only-of-type {\n",
       "        vertical-align: middle;\n",
       "    }\n",
       "\n",
       "    .dataframe tbody tr th {\n",
       "        vertical-align: top;\n",
       "    }\n",
       "\n",
       "    .dataframe thead th {\n",
       "        text-align: right;\n",
       "    }\n",
       "</style>\n",
       "<table border=\"1\" class=\"dataframe\">\n",
       "  <thead>\n",
       "    <tr style=\"text-align: right;\">\n",
       "      <th></th>\n",
       "      <th>Event</th>\n",
       "      <th>Next Event</th>\n",
       "      <th>Yes/Yes</th>\n",
       "      <th>Yes/No</th>\n",
       "      <th>No/Yes</th>\n",
       "      <th>No/No</th>\n",
       "    </tr>\n",
       "  </thead>\n",
       "  <tbody>\n",
       "    <tr>\n",
       "      <th>0</th>\n",
       "      <td>A</td>\n",
       "      <td>D</td>\n",
       "      <td>67</td>\n",
       "      <td>21</td>\n",
       "      <td>3</td>\n",
       "      <td>7</td>\n",
       "    </tr>\n",
       "  </tbody>\n",
       "</table>\n",
       "</div>"
      ],
      "text/plain": [
       "  Event Next Event Yes/Yes Yes/No No/Yes No/No\n",
       "0     A          D      67     21      3     7"
      ]
     },
     "execution_count": 16,
     "metadata": {},
     "output_type": "execute_result"
    }
   ],
   "source": [
    "# Sum of Yes/Yes, Yes/No and No/Yes must be above the defined threshold\n",
    "\n",
    "threshold = 50\n",
    "indep_outcomes = indep_outcomes[indep_outcomes.iloc[:, -4:-2].sum(axis=1) > threshold]\n",
    "\n",
    "indep_outcomes = indep_outcomes.reset_index(drop=True)\n",
    "indep_outcomes"
   ]
  },
  {
   "cell_type": "code",
   "execution_count": 17,
   "metadata": {},
   "outputs": [],
   "source": [
    "# For each pair, calculate all expected outcomes\n",
    "\n",
    "indep_outcomes['exp_yes/yes'] = ((indep_outcomes['Yes/Yes'] + indep_outcomes['No/Yes']) * (indep_outcomes['Yes/Yes'] + indep_outcomes['Yes/No']))/ (indep_outcomes['Yes/Yes'] + indep_outcomes['Yes/No'] + indep_outcomes['No/Yes'] + indep_outcomes['No/No'])\n",
    "indep_outcomes['exp_yes/no'] = ((indep_outcomes['Yes/No'] + indep_outcomes['No/No']) * (indep_outcomes['Yes/Yes'] + indep_outcomes['Yes/No']))/ (indep_outcomes['Yes/Yes'] + indep_outcomes['Yes/No'] + indep_outcomes['No/Yes'] + indep_outcomes['No/No'])\n",
    "indep_outcomes['exp_no/yes'] = ((indep_outcomes['Yes/Yes'] + indep_outcomes['No/Yes']) * (indep_outcomes['No/Yes'] + indep_outcomes['No/No']))/ (indep_outcomes['Yes/Yes'] + indep_outcomes['Yes/No'] + indep_outcomes['No/Yes'] + indep_outcomes['No/No'])\n",
    "indep_outcomes['exp_no/no'] = ((indep_outcomes['Yes/No'] + indep_outcomes['No/No']) * (indep_outcomes['No/Yes'] + indep_outcomes['No/No']))/ (indep_outcomes['Yes/Yes'] + indep_outcomes['Yes/No'] + indep_outcomes['No/Yes'] + indep_outcomes['No/No'])\n",
    "\n",
    "# Calculate Chi-square value\n",
    "indep_outcomes['Chi_sqrt'] = ((((indep_outcomes['Yes/Yes']-indep_outcomes['exp_yes/yes'])**2)/indep_outcomes['exp_yes/yes']) +\n",
    "                              (((indep_outcomes['Yes/No']-indep_outcomes['exp_yes/no'])**2)/indep_outcomes['exp_yes/no']) +\n",
    "                              (((indep_outcomes['No/Yes']-indep_outcomes['exp_no/yes'])**2)/indep_outcomes['exp_no/yes']) +\n",
    "                              (((indep_outcomes['No/No']-indep_outcomes['exp_no/no'])**2)/indep_outcomes['exp_no/no']))"
   ]
  },
  {
   "cell_type": "code",
   "execution_count": 18,
   "metadata": {},
   "outputs": [
    {
     "data": {
      "image/png": "[encoded data removed]",
      "text/plain": [
       "<Figure size 1200x600 with 1 Axes>"
      ]
     },
     "metadata": {},
     "output_type": "display_data"
    }
   ],
   "source": [
    "# Comparing the observed and expected freqencies\n",
    "observed_cols = ['Yes/Yes', 'Yes/No', 'No/Yes', 'No/No']\n",
    "expected_cols = ['exp_yes/yes', 'exp_yes/no', 'exp_no/yes', 'exp_no/no']\n",
    "\n",
    "# Plotting the bar chart\n",
    "fig, ax = plt.subplots(figsize=(12, 6))\n",
    "indep_outcomes[observed_cols].plot(kind='bar',  ax=ax, width=0.4)\n",
    "indep_outcomes[expected_cols].plot(kind='bar',  ax=ax, width=0.4, alpha=0.5, edgecolor='black')\n",
    "\n",
    "plt.title('Comparison of Observed and Expected Frequencies')\n",
    "plt.xlabel('Log move pair')\n",
    "plt.ylabel('Frequency')\n",
    "plt.legend(['Yes/Yes', 'Yes/No', 'No/Yes', 'No/No', 'Expected Yes/Yes', 'Expected Yes/No', 'Expected No/Yes', 'Expected No/No'])\n",
    "plt.show()"
   ]
  },
  {
   "cell_type": "code",
   "execution_count": 19,
   "metadata": {},
   "outputs": [
    {
     "data": {
      "image/png": "[encoded data removed]",
      "text/plain": [
       "<Figure size 1200x600 with 1 Axes>"
      ]
     },
     "metadata": {},
     "output_type": "display_data"
    }
   ],
   "source": [
    "# Comparing the observed and expected freqencies leaving out the No/No pairs\n",
    "observed_cols = ['Yes/Yes', 'Yes/No', 'No/Yes']\n",
    "expected_cols = ['exp_yes/yes', 'exp_yes/no', 'exp_no/yes']\n",
    "\n",
    "# Plotting the bar chart\n",
    "fig, ax = plt.subplots(figsize=(12, 6))\n",
    "indep_outcomes[observed_cols].plot(kind='bar', ax=ax, width=0.4)\n",
    "indep_outcomes[expected_cols].plot(kind='bar', ax=ax, width=0.4, alpha=0.4, edgecolor='black')\n",
    "\n",
    "plt.title('Comparison of observed and expected frequencies')\n",
    "plt.xlabel('Log move pair')\n",
    "plt.ylabel('Frequency')\n",
    "plt.legend(['Yes/Yes', 'Yes/No', 'No/Yes', 'Expected Yes/Yes', 'Expected Yes/No', 'Expected No/Yes'])\n",
    "plt.show()"
   ]
  },
  {
   "cell_type": "code",
   "execution_count": 20,
   "metadata": {},
   "outputs": [
    {
     "name": "stdout",
     "output_type": "stream",
     "text": [
      "Accept the null hypothesis for the following pairs of events:\n",
      "\n",
      "Reject the null hypothesis for the following pairs of events:\n",
      "('A', 'D', 'Chi-square value: 9.37')\n"
     ]
    }
   ],
   "source": [
    "# Critical value from the chi-square distribution table\n",
    "critical_value = 3.841\n",
    "\n",
    "reject_pairs = []\n",
    "accept_pairs = []\n",
    "\n",
    "# Check if the Chi-square values are larger than the critical value,\n",
    "# if so, append to the rejected pairs list, otherwise append to the accepted pairs list.\n",
    "for index, row in indep_outcomes.iterrows():\n",
    "    if row['Chi_sqrt'] > critical_value:\n",
    "        reject_pairs.append((row['Event'], row['Next Event'], \"Chi-square value: \" + str(round(row['Chi_sqrt'], 2))))\n",
    "    else:\n",
    "        accept_pairs.append((row['Event'], row['Next Event'], \"Chi-square value: \" + str(round(row['Chi_sqrt'], 2))))\n",
    "\n",
    "        \n",
    "print(\"Accept the null hypothesis for the following pairs of events:\")\n",
    "for pair in accept_pairs:\n",
    "    print(pair)  \n",
    "        \n",
    "print(\"\\nReject the null hypothesis for the following pairs of events:\")\n",
    "for pair in reject_pairs:\n",
    "    print(pair)"
   ]
  },
  {
   "cell_type": "markdown",
   "metadata": {
    "ExecuteTime": {
     "end_time": "2023-10-17T11:01:29.535718100Z",
     "start_time": "2023-10-17T11:01:29.417202400Z"
    }
   },
   "source": [
    "# Chi-square test for independence using scipy.stats"
   ]
  },
  {
   "cell_type": "markdown",
   "metadata": {},
   "source": [
    "Null Hypothesis: There is no relation between log move A and log move B.<br>\n",
    "Alternative Hypothesis: There is a relation between log move A and log move B."
   ]
  },
  {
   "cell_type": "code",
   "execution_count": 21,
   "metadata": {
    "ExecuteTime": {
     "end_time": "2023-10-17T11:01:29.604366300Z",
     "start_time": "2023-10-17T11:01:29.424237600Z"
    },
    "scrolled": true
   },
   "outputs": [
    {
     "name": "stdout",
     "output_type": "stream",
     "text": [
      "Chi square Stat: 7.241420454545454\n",
      "P-value: 0.007124059710157145\n",
      "Degrees of Freedom: 1\n",
      "Expected table:\n",
      "[[67, 21], [3, 7]]\n",
      "[[62.85714286 25.14285714]\n",
      " [ 7.14285714  2.85714286]]\n",
      "\n"
     ]
    }
   ],
   "source": [
    "# Chi-square test using the scipy.stats module.\n",
    "\n",
    "#It gives different values for the Chi-square values, \n",
    "# eventhough the expected frequencies are in accordance with the expected freqencies calculated by hand.\n",
    "for index, row in indep_outcomes.iterrows():\n",
    "    observed_data = [\n",
    "    [row[\"Yes/Yes\"], row[\"Yes/No\"]],\n",
    "    [row[\"No/Yes\"], row[\"No/No\"]]]\n",
    "    \n",
    "    chi2_stat, p_value, dof, expected = chi2_contingency(observed_data)\n",
    "\n",
    "    print(f\"Chi square Stat: {chi2_stat}\")\n",
    "    print(f\"P-value: {p_value}\")\n",
    "    print(f\"Degrees of Freedom: {dof}\")\n",
    "    print(\"Expected table:\")\n",
    "    print(observed_data)\n",
    "    print(expected)\n",
    "    print()"
   ]
  },
  {
   "cell_type": "code",
   "execution_count": 22,
   "metadata": {},
   "outputs": [],
   "source": [
    "# all p values are below 0.05 reject null hypothesis. So, there is a relation between Event A and event B"
   ]
  }
 ],
 "metadata": {
  "kernelspec": {
   "display_name": "Python 3 (ipykernel)",
   "language": "python",
   "name": "python3"
  },
  "language_info": {
   "codemirror_mode": {
    "name": "ipython",
    "version": 3
   },
   "file_extension": ".py",
   "mimetype": "text/x-python",
   "name": "python",
   "nbconvert_exporter": "python",
   "pygments_lexer": "ipython3",
   "version": "3.11.4"
  }
 },
 "nbformat": 4,
 "nbformat_minor": 1
}
